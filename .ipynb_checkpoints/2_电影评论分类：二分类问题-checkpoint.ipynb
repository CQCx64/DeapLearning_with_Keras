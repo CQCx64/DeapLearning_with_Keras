{
 "cells": [
  {
   "cell_type": "markdown",
   "metadata": {},
   "source": [
    "## IMDB数据集"
   ]
  },
  {
   "cell_type": "markdown",
   "metadata": {},
   "source": [
    "### 加载IMDB数据集"
   ]
  },
  {
   "cell_type": "code",
   "execution_count": 1,
   "metadata": {},
   "outputs": [
    {
     "name": "stderr",
     "output_type": "stream",
     "text": [
      "Using TensorFlow backend.\n"
     ]
    }
   ],
   "source": [
    "from keras.datasets import imdb\n",
    "\n",
    "#加载数据，参数10000代表仅保留前10000个最常出现的单词，舍弃低频单词\n",
    "(train_data, train_labels), (test_data, test_labels) = imdb.load_data(num_words=10000)"
   ]
  },
  {
   "cell_type": "code",
   "execution_count": 2,
   "metadata": {},
   "outputs": [
    {
     "name": "stdout",
     "output_type": "stream",
     "text": [
      "shape: (25000,)\n",
      "first data: [1, 14, 22, 16, 43, 530, 973, 1622, 1385, 65, 458, 4468, 66, 3941, 4, 173, 36, 256, 5, 25, 100, 43, 838, 112, 50, 670, 2, 9, 35, 480, 284, 5, 150, 4, 172, 112, 167, 2, 336, 385, 39, 4, 172, 4536, 1111, 17, 546, 38, 13, 447, 4, 192, 50, 16, 6, 147, 2025, 19, 14, 22, 4, 1920, 4613, 469, 4, 22, 71, 87, 12, 16, 43, 530, 38, 76, 15, 13, 1247, 4, 22, 17, 515, 17, 12, 16, 626, 18, 2, 5, 62, 386, 12, 8, 316, 8, 106, 5, 4, 2223, 5244, 16, 480, 66, 3785, 33, 4, 130, 12, 16, 38, 619, 5, 25, 124, 51, 36, 135, 48, 25, 1415, 33, 6, 22, 12, 215, 28, 77, 52, 5, 14, 407, 16, 82, 2, 8, 4, 107, 117, 5952, 15, 256, 4, 2, 7, 3766, 5, 723, 36, 71, 43, 530, 476, 26, 400, 317, 46, 7, 4, 2, 1029, 13, 104, 88, 4, 381, 15, 297, 98, 32, 2071, 56, 26, 141, 6, 194, 7486, 18, 4, 226, 22, 21, 134, 476, 26, 480, 5, 144, 30, 5535, 18, 51, 36, 28, 224, 92, 25, 104, 4, 226, 65, 16, 38, 1334, 88, 12, 16, 283, 5, 16, 4472, 113, 103, 32, 15, 16, 5345, 19, 178, 32]\n",
      "first label: 1\n"
     ]
    }
   ],
   "source": [
    "#查看数据\n",
    "\n",
    "#train_data和test_data是由评论组成的列表\n",
    "print('shape:',train_data.shape)\n",
    "#每条评论又是单词索引的列表，代表一系列单词\n",
    "print('first data:',train_data[0])\n",
    "\n",
    "#train_labels和test_labels是0和1组成的列表，0代表负面，1代表正面\n",
    "print('first label:',train_labels[0])"
   ]
  },
  {
   "cell_type": "code",
   "execution_count": 3,
   "metadata": {},
   "outputs": [
    {
     "data": {
      "text/plain": [
       "9999"
      ]
     },
     "execution_count": 3,
     "metadata": {},
     "output_type": "execute_result"
    }
   ],
   "source": [
    "#由于限定为前10000个常见单词，单词索引都不会超过10000\n",
    "max([max(sequence) for sequence in train_data])"
   ]
  },
  {
   "cell_type": "code",
   "execution_count": 4,
   "metadata": {},
   "outputs": [
    {
     "data": {
      "text/plain": [
       "\"? this film was just brilliant casting location scenery story direction everyone's really suited the part they played and you could just imagine being there robert ? is an amazing actor and now the same being director ? father came from the same scottish island as myself so i loved the fact there was a real connection with this film the witty remarks throughout the film were great it was just brilliant so much that i bought the film as soon as it was released for ? and would recommend it to everyone to watch and the fly fishing was amazing really cried at the end it was so sad and you know what they say if you cry at a film it must have been good and this definitely was also ? to the two little boy's that played the ? of norman and paul they were just brilliant children are often left out of the ? list i think because the stars that play them all grown up are such a big profile for the whole film but these children are amazing and should be praised for what they have done don't you think the whole story was so lovely because it was true and was someone's life after all that was shared with us all\""
      ]
     },
     "execution_count": 4,
     "metadata": {},
     "output_type": "execute_result"
    }
   ],
   "source": [
    "#以下代码将索引解码为英文单词\n",
    "word_index = imdb.get_word_index()   #word_index是一个将单词映射为整数索引的字典\n",
    "reverse_word_index = dict(\n",
    "    [(value, key) for (key, value) in word_index.items()])     #键值转换，将整数索引映射为单词\n",
    "decoded_review = ' '.join(\n",
    "    [reverse_word_index.get(i-3, '?') for i in train_data[0]])    #将评论解码。索引减去3，因为0、1、2是保留索引，不存储单词索引\n",
    "decoded_review"
   ]
  },
  {
   "cell_type": "markdown",
   "metadata": {},
   "source": [
    "## 准备数据"
   ]
  },
  {
   "cell_type": "markdown",
   "metadata": {},
   "source": [
    "### 将整数序列编码为二进制矩阵"
   ]
  },
  {
   "cell_type": "code",
   "execution_count": 5,
   "metadata": {},
   "outputs": [],
   "source": [
    "import numpy as np\n",
    "\n",
    "def vectorize_sequences(sequences, dimension=10000):\n",
    "    results = np.zeros((len(sequences), dimension))    #创建一个形状为(len(sequences), dimension)的零矩阵\n",
    "    for i, sequences in enumerate(sequences):\n",
    "        results[i, sequences] = 1    #将results[i]的指定索引设为1\n",
    "    return results\n",
    "\n",
    "#将数据向量化\n",
    "x_train = vectorize_sequences(train_data)\n",
    "x_test = vectorize_sequences(test_data)"
   ]
  },
  {
   "cell_type": "code",
   "execution_count": 6,
   "metadata": {},
   "outputs": [
    {
     "data": {
      "text/plain": [
       "array([0., 1., 1., ..., 0., 0., 0.])"
      ]
     },
     "execution_count": 6,
     "metadata": {},
     "output_type": "execute_result"
    }
   ],
   "source": [
    "#现在的样本\n",
    "x_train[0]"
   ]
  },
  {
   "cell_type": "code",
   "execution_count": 7,
   "metadata": {},
   "outputs": [],
   "source": [
    "#再将标签向量化，便于输入到神经网络\n",
    "y_train = np.asarray(train_labels).astype('float32')\n",
    "y_test = np.asarray(test_labels).astype('float32')"
   ]
  },
  {
   "cell_type": "markdown",
   "metadata": {},
   "source": [
    "## 构建网络"
   ]
  },
  {
   "cell_type": "markdown",
   "metadata": {},
   "source": [
    "### 模型定义"
   ]
  },
  {
   "cell_type": "code",
   "execution_count": 8,
   "metadata": {},
   "outputs": [
    {
     "name": "stdout",
     "output_type": "stream",
     "text": [
      "WARNING:tensorflow:From /home/cqc/anaconda3/lib/python3.7/site-packages/tensorflow/python/framework/op_def_library.py:263: colocate_with (from tensorflow.python.framework.ops) is deprecated and will be removed in a future version.\n",
      "Instructions for updating:\n",
      "Colocations handled automatically by placer.\n"
     ]
    }
   ],
   "source": [
    "from keras import models\n",
    "from keras import layers\n",
    "\n",
    "model = models.Sequential()\n",
    "model.add(layers.Dense(16, activation='relu', input_shape=(10000,)))\n",
    "model.add(layers.Dense(16, activation='relu'))\n",
    "model.add(layers.Dense(1, activation='sigmoid'))"
   ]
  },
  {
   "cell_type": "markdown",
   "metadata": {},
   "source": [
    "### 编译模型，使用自定义的损失和指标"
   ]
  },
  {
   "cell_type": "code",
   "execution_count": 9,
   "metadata": {},
   "outputs": [],
   "source": [
    "from keras import losses\n",
    "from keras import metrics\n",
    "from keras import optimizers\n",
    "\n",
    "model.compile(optimizer=optimizers.RMSprop(lr=0.001),\n",
    "              loss=losses.binary_crossentropy,\n",
    "              metrics=[metrics.binary_accuracy])"
   ]
  },
  {
   "cell_type": "markdown",
   "metadata": {},
   "source": [
    "## 验证方法"
   ]
  },
  {
   "cell_type": "markdown",
   "metadata": {},
   "source": [
    "为了在训练过程中监控模型在前所未见的数据上的精度，需要将原始训练数据留出10000个样本作为验证集"
   ]
  },
  {
   "cell_type": "markdown",
   "metadata": {},
   "source": [
    "### 留出验证集"
   ]
  },
  {
   "cell_type": "code",
   "execution_count": 10,
   "metadata": {},
   "outputs": [],
   "source": [
    "x_val = x_train[:10000]\n",
    "partial_x_train = x_train[10000:]\n",
    "\n",
    "y_val = y_train[:10000]\n",
    "partial_y_train = y_train[10000:]"
   ]
  },
  {
   "cell_type": "markdown",
   "metadata": {},
   "source": [
    "### 训练模型"
   ]
  },
  {
   "cell_type": "code",
   "execution_count": 11,
   "metadata": {},
   "outputs": [
    {
     "name": "stdout",
     "output_type": "stream",
     "text": [
      "WARNING:tensorflow:From /home/cqc/anaconda3/lib/python3.7/site-packages/tensorflow/python/ops/math_ops.py:3066: to_int32 (from tensorflow.python.ops.math_ops) is deprecated and will be removed in a future version.\n",
      "Instructions for updating:\n",
      "Use tf.cast instead.\n",
      "Train on 15000 samples, validate on 10000 samples\n",
      "Epoch 1/20\n",
      " 1536/15000 [==>...........................] - ETA: 6:05 - loss: 0.6847 - binary_accuracy: 0.5488"
     ]
    },
    {
     "name": "stderr",
     "output_type": "stream",
     "text": [
      "/home/cqc/anaconda3/lib/python3.7/site-packages/keras/callbacks.py:122: UserWarning: Method on_batch_end() is slow compared to the batch update (0.741298). Check your callbacks.\n",
      "  % delta_t_median)\n"
     ]
    },
    {
     "name": "stdout",
     "output_type": "stream",
     "text": [
      "15000/15000 [==============================] - 44s 3ms/step - loss: 0.4975 - binary_accuracy: 0.7952 - val_loss: 0.3714 - val_binary_accuracy: 0.8725\n",
      "Epoch 2/20\n",
      "15000/15000 [==============================] - 2s 132us/step - loss: 0.2957 - binary_accuracy: 0.9047 - val_loss: 0.2989 - val_binary_accuracy: 0.8906\n",
      "Epoch 3/20\n",
      "15000/15000 [==============================] - 2s 102us/step - loss: 0.2159 - binary_accuracy: 0.9287 - val_loss: 0.3086 - val_binary_accuracy: 0.8715\n",
      "Epoch 4/20\n",
      "15000/15000 [==============================] - 2s 108us/step - loss: 0.1741 - binary_accuracy: 0.9432 - val_loss: 0.2832 - val_binary_accuracy: 0.8836\n",
      "Epoch 5/20\n",
      "15000/15000 [==============================] - 2s 118us/step - loss: 0.1414 - binary_accuracy: 0.9541 - val_loss: 0.2863 - val_binary_accuracy: 0.8850\n",
      "Epoch 6/20\n",
      "15000/15000 [==============================] - 2s 102us/step - loss: 0.1142 - binary_accuracy: 0.9655 - val_loss: 0.3080 - val_binary_accuracy: 0.8816\n",
      "Epoch 7/20\n",
      "15000/15000 [==============================] - 2s 102us/step - loss: 0.0969 - binary_accuracy: 0.9709 - val_loss: 0.3147 - val_binary_accuracy: 0.8843\n",
      "Epoch 8/20\n",
      "15000/15000 [==============================] - 2s 103us/step - loss: 0.0802 - binary_accuracy: 0.9765 - val_loss: 0.3865 - val_binary_accuracy: 0.8661\n",
      "Epoch 9/20\n",
      "15000/15000 [==============================] - 2s 102us/step - loss: 0.0657 - binary_accuracy: 0.9819 - val_loss: 0.3647 - val_binary_accuracy: 0.8774\n",
      "Epoch 10/20\n",
      "15000/15000 [==============================] - 2s 103us/step - loss: 0.0553 - binary_accuracy: 0.9850 - val_loss: 0.3865 - val_binary_accuracy: 0.8790\n",
      "Epoch 11/20\n",
      "15000/15000 [==============================] - 2s 102us/step - loss: 0.0454 - binary_accuracy: 0.9885 - val_loss: 0.4182 - val_binary_accuracy: 0.8765\n",
      "Epoch 12/20\n",
      "15000/15000 [==============================] - 2s 103us/step - loss: 0.0386 - binary_accuracy: 0.9914 - val_loss: 0.4521 - val_binary_accuracy: 0.8701\n",
      "Epoch 13/20\n",
      "15000/15000 [==============================] - 2s 104us/step - loss: 0.0296 - binary_accuracy: 0.9939 - val_loss: 0.4717 - val_binary_accuracy: 0.8737\n",
      "Epoch 14/20\n",
      "15000/15000 [==============================] - 2s 104us/step - loss: 0.0243 - binary_accuracy: 0.9949 - val_loss: 0.5027 - val_binary_accuracy: 0.8716\n",
      "Epoch 15/20\n",
      "15000/15000 [==============================] - 2s 104us/step - loss: 0.0185 - binary_accuracy: 0.9975 - val_loss: 0.5319 - val_binary_accuracy: 0.8695\n",
      "Epoch 16/20\n",
      "15000/15000 [==============================] - 2s 104us/step - loss: 0.0154 - binary_accuracy: 0.9983 - val_loss: 0.5683 - val_binary_accuracy: 0.8691\n",
      "Epoch 17/20\n",
      "15000/15000 [==============================] - 2s 103us/step - loss: 0.0159 - binary_accuracy: 0.9971 - val_loss: 0.6003 - val_binary_accuracy: 0.8687\n",
      "Epoch 18/20\n",
      "15000/15000 [==============================] - 2s 107us/step - loss: 0.0080 - binary_accuracy: 0.9995 - val_loss: 0.6839 - val_binary_accuracy: 0.8625\n",
      "Epoch 19/20\n",
      "15000/15000 [==============================] - 2s 104us/step - loss: 0.0118 - binary_accuracy: 0.9973 - val_loss: 0.6755 - val_binary_accuracy: 0.8658\n",
      "Epoch 20/20\n",
      "15000/15000 [==============================] - 2s 141us/step - loss: 0.0043 - binary_accuracy: 0.9999 - val_loss: 0.6884 - val_binary_accuracy: 0.8664\n"
     ]
    }
   ],
   "source": [
    "#使用512个样本组成的小批量，训练20个轮次，将验证集通过validation_data传入\n",
    "history = model.fit(partial_x_train,\n",
    "                    partial_y_train,\n",
    "                    epochs=20,\n",
    "                    batch_size=512,\n",
    "                    validation_data=(x_val, y_val))"
   ]
  },
  {
   "cell_type": "code",
   "execution_count": 12,
   "metadata": {},
   "outputs": [
    {
     "data": {
      "text/plain": [
       "dict_keys(['val_loss', 'val_binary_accuracy', 'loss', 'binary_accuracy'])"
      ]
     },
     "execution_count": 12,
     "metadata": {},
     "output_type": "execute_result"
    }
   ],
   "source": [
    "#model.fit()返回了一个History对象，这个对象有一个成员history，他是一个字典，包含训练过程中的所有数据。\n",
    "history_dict = history.history\n",
    "history_dict.keys()"
   ]
  },
  {
   "cell_type": "markdown",
   "metadata": {},
   "source": [
    "### 绘制训练损失和验证损失"
   ]
  },
  {
   "cell_type": "code",
   "execution_count": 13,
   "metadata": {},
   "outputs": [],
   "source": [
    "import matplotlib.pyplot as plt\n",
    "%matplotlib inline"
   ]
  },
  {
   "cell_type": "code",
   "execution_count": 14,
   "metadata": {},
   "outputs": [
    {
     "data": {
      "image/png": "[encoded data removed]",
      "text/plain": [
       "<Figure size 864x432 with 1 Axes>"
      ]
     },
     "metadata": {
      "needs_background": "light"
     },
     "output_type": "display_data"
    }
   ],
   "source": [
    "loss_values = history_dict['loss']\n",
    "val_loss_values = history_dict['val_loss']\n",
    "\n",
    "epochs = range(1, len(loss_values) + 1)\n",
    "\n",
    "plt.figure(figsize=(12, 6))\n",
    "plt.plot(epochs, loss_values, 'bo', label='Training loss')\n",
    "plt.plot(epochs, val_loss_values, 'b', label='Validation loss')\n",
    "plt.title('Training and Validation loss')\n",
    "plt.xlabel('Epochs')\n",
    "plt.ylabel('Loss')\n",
    "plt.legend()    #绘制图例\n",
    "\n",
    "plt.show()"
   ]
  },
  {
   "cell_type": "code",
   "execution_count": 15,
   "metadata": {},
   "outputs": [
    {
     "data": {
      "text/plain": [
       "<Figure size 432x288 with 0 Axes>"
      ]
     },
     "metadata": {},
     "output_type": "display_data"
    },
    {
     "data": {
      "image/png": "[encoded data removed]",
      "text/plain": [
       "<Figure size 864x432 with 1 Axes>"
      ]
     },
     "metadata": {
      "needs_background": "light"
     },
     "output_type": "display_data"
    }
   ],
   "source": [
    "plt.clf()    #清空图像\n",
    "\n",
    "acc = history_dict['binary_accuracy']\n",
    "val_acc = history_dict['val_binary_accuracy']\n",
    "\n",
    "plt.figure(figsize=(12, 6))\n",
    "\n",
    "plt.plot(epochs, acc, 'bo', label='Training acc')\n",
    "plt.plot(epochs, val_acc, 'b', label='Validation acc')\n",
    "plt.title('Training and Validation accuracy')\n",
    "plt.xlabel('Epochs')\n",
    "plt.ylabel('Accuracy')\n",
    "plt.legend()\n",
    "\n",
    "plt.show()"
   ]
  },
  {
   "cell_type": "markdown",
   "metadata": {},
   "source": [
    "可见，训练数据随着迭代次数增加，精确度上升，损失降低；相反，在模型未见的验证集上代价不断上升，精确度在第4～6步后达到最高并趋于平稳。\n",
    "\n",
    "为了防止过拟合，可提前结束训练，考虑在4～6步停止。"
   ]
  },
  {
   "cell_type": "markdown",
   "metadata": {},
   "source": [
    "### 重新训练一个模型"
   ]
  },
  {
   "cell_type": "code",
   "execution_count": 16,
   "metadata": {},
   "outputs": [
    {
     "name": "stdout",
     "output_type": "stream",
     "text": [
      "Epoch 1/6\n",
      " 1024/25000 [>.............................] - ETA: 7:56 - loss: 0.6887 - acc: 0.5596 "
     ]
    },
    {
     "name": "stderr",
     "output_type": "stream",
     "text": [
      "/home/cqc/anaconda3/lib/python3.7/site-packages/keras/callbacks.py:122: UserWarning: Method on_batch_end() is slow compared to the batch update (0.142186). Check your callbacks.\n",
      "  % delta_t_median)\n"
     ]
    },
    {
     "name": "stdout",
     "output_type": "stream",
     "text": [
      "25000/25000 [==============================] - 87s 3ms/step - loss: 0.4739 - acc: 0.8220\n",
      "Epoch 2/6\n",
      "25000/25000 [==============================] - 22s 883us/step - loss: 0.2674 - acc: 0.9090\n",
      "Epoch 3/6\n",
      "25000/25000 [==============================] - 2s 68us/step - loss: 0.2033 - acc: 0.9284\n",
      "Epoch 4/6\n",
      "25000/25000 [==============================] - 2s 68us/step - loss: 0.1714 - acc: 0.9385\n",
      "Epoch 5/6\n",
      "25000/25000 [==============================] - 2s 68us/step - loss: 0.1464 - acc: 0.9490\n",
      "Epoch 6/6\n",
      "25000/25000 [==============================] - 2s 70us/step - loss: 0.1291 - acc: 0.9551\n",
      "25000/25000 [==============================] - 6s 232us/step\n"
     ]
    }
   ],
   "source": [
    "model = models.Sequential()\n",
    "model.add(layers.Dense(16, activation='relu', input_shape=(10000,)))\n",
    "model.add(layers.Dense(16,activation='relu'))\n",
    "model.add(layers.Dense(1,activation='sigmoid'))\n",
    "\n",
    "model.compile(optimizer='rmsprop',\n",
    "              loss='binary_crossentropy',\n",
    "              metrics=['accuracy'])\n",
    "\n",
    "model.fit(x_train,\n",
    "          y_train,\n",
    "          epochs=6,\n",
    "          batch_size=512)\n",
    "\n",
    "results = model.evaluate(x_test, y_test)"
   ]
  },
  {
   "cell_type": "code",
   "execution_count": 17,
   "metadata": {},
   "outputs": [
    {
     "name": "stdout",
     "output_type": "stream",
     "text": [
      "Test loss: 0.32987724846839905, Test acc: 0.87784\n"
     ]
    }
   ],
   "source": [
    "print('Test loss: {}, Test acc: {}'.format(results[0], results[1]))"
   ]
  },
  {
   "cell_type": "markdown",
   "metadata": {},
   "source": [
    "## 使用训练好的网络在新数据上生成预测结果"
   ]
  },
  {
   "cell_type": "markdown",
   "metadata": {},
   "source": [
    "训练好网络之后，你希望将其用于实践。你可以用predict 方法来得到评论为正面的可能性大小。"
   ]
  },
  {
   "cell_type": "code",
   "execution_count": 18,
   "metadata": {},
   "outputs": [
    {
     "data": {
      "text/plain": [
       "array([[0.20817503],\n",
       "       [0.99998486],\n",
       "       [0.6050737 ],\n",
       "       ...,\n",
       "       [0.1387172 ],\n",
       "       [0.06217399],\n",
       "       [0.809021  ]], dtype=float32)"
      ]
     },
     "execution_count": 18,
     "metadata": {},
     "output_type": "execute_result"
    }
   ],
   "source": [
    "model.predict(x_test)"
   ]
  },
  {
   "cell_type": "markdown",
   "metadata": {},
   "source": [
    "网络对某些样本的结果非常确信（大于等于0.99，或小于等于0.01），但对其他结果却不那么确信（0.6或0.4）"
   ]
  }
 ],
 "metadata": {
  "kernelspec": {
   "display_name": "Python 3",
   "language": "python",
   "name": "python3"
  },
  "language_info": {
   "codemirror_mode": {
    "name": "ipython",
    "version": 3
   },
   "file_extension": ".py",
   "mimetype": "text/x-python",
   "name": "python",
   "nbconvert_exporter": "python",
   "pygments_lexer": "ipython3",
   "version": "3.7.3"
  }
 },
 "nbformat": 4,
 "nbformat_minor": 2
}
